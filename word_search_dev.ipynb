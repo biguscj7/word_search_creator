{
 "cells": [
  {
   "cell_type": "code",
   "execution_count": 1,
   "metadata": {},
   "outputs": [],
   "source": [
    "from pprint import pprint as pp\n",
    "import random"
   ]
  },
  {
   "cell_type": "code",
   "execution_count": 2,
   "metadata": {},
   "outputs": [],
   "source": [
    "from bigus_word_search import read_from_txt, CreateWordSearch"
   ]
  },
  {
   "cell_type": "code",
   "execution_count": 3,
   "metadata": {},
   "outputs": [
    {
     "output_type": "execute_result",
     "data": {
      "text/plain": [
       "['MAN',\n",
       " 'WOMAN',\n",
       " 'SLOTH',\n",
       " 'WAXY',\n",
       " 'ECHO',\n",
       " 'TASTE',\n",
       " 'SENSE',\n",
       " 'LUCID',\n",
       " 'TESTY',\n",
       " 'REPEAT',\n",
       " 'LOST',\n",
       " 'HELP']"
      ]
     },
     "metadata": {},
     "execution_count": 3
    }
   ],
   "source": [
    "word_list = read_from_txt()\n",
    "word_list"
   ]
  },
  {
   "cell_type": "code",
   "execution_count": 4,
   "metadata": {},
   "outputs": [],
   "source": [
    "test_search = CreateWordSearch(word_list)"
   ]
  },
  {
   "cell_type": "code",
   "execution_count": 5,
   "metadata": {},
   "outputs": [
    {
     "output_type": "execute_result",
     "data": {
      "text/plain": [
       "[['_', '_', '_', '_', '_', 'T', 'E', 'S', 'T', 'Y', '_', '_', '_'],\n",
       " ['_', '_', '_', '_', 'T', '_', '_', 'S', '_', '_', '_', '_', '_'],\n",
       " ['_', '_', '_', '_', 'D', 'A', '_', '_', 'L', '_', '_', '_', '_'],\n",
       " ['_', '_', 'L', '_', '_', 'I', 'S', '_', '_', 'O', '_', '_', '_'],\n",
       " ['_', '_', 'O', '_', '_', 'R', 'C', 'T', '_', '_', 'T', '_', '_'],\n",
       " ['_', '_', 'S', 'E', '_', '_', 'E', 'U', 'E', '_', '_', 'H', '_'],\n",
       " ['_', '_', 'T', '_', 'S', '_', '_', 'P', 'L', '_', '_', '_', '_'],\n",
       " ['E', '_', 'W', '_', '_', 'N', '_', '_', 'E', '_', '_', '_', '_'],\n",
       " ['C', '_', '_', 'O', '_', '_', 'E', '_', '_', 'A', '_', '_', '_'],\n",
       " ['H', '_', '_', '_', 'M', '_', '_', 'S', '_', '_', 'T', '_', '_'],\n",
       " ['O', '_', '_', '_', 'M', 'A', 'N', 'Y', 'X', 'A', 'W', '_', '_'],\n",
       " ['H', 'E', 'L', 'P', '_', '_', 'N', '_', '_', '_', '_', '_', '_'],\n",
       " ['_', '_', '_', '_', '_', '_', '_', '_', '_', '_', '_', '_', '_']]"
      ]
     },
     "metadata": {},
     "execution_count": 5
    }
   ],
   "source": [
    "len(test_search.grid)\n",
    "test_search.before_fill"
   ]
  },
  {
   "cell_type": "code",
   "execution_count": null,
   "metadata": {},
   "outputs": [],
   "source": [
    "for row in test_search.before_fill:\n",
    "    print(row)"
   ]
  }
 ],
 "metadata": {
  "kernelspec": {
   "display_name": "Python 3",
   "language": "python",
   "name": "python3"
  },
  "language_info": {
   "codemirror_mode": {
    "name": "ipython",
    "version": 3
   },
   "file_extension": ".py",
   "mimetype": "text/x-python",
   "name": "python",
   "nbconvert_exporter": "python",
   "pygments_lexer": "ipython3",
   "version": "3.7.4-final"
  }
 },
 "nbformat": 4,
 "nbformat_minor": 4
}