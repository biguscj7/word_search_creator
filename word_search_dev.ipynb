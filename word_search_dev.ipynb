{
 "cells": [
  {
   "cell_type": "code",
   "execution_count": 1,
   "metadata": {},
   "outputs": [],
   "source": [
    "from pprint import pprint as pp\n",
    "import random"
   ]
  },
  {
   "cell_type": "code",
   "execution_count": 2,
   "metadata": {},
   "outputs": [],
   "source": [
    "from bigus_word_search import read_from_txt, CreateWordSearch"
   ]
  },
  {
   "cell_type": "code",
   "execution_count": 3,
   "metadata": {},
   "outputs": [],
   "source": [
    "word_list = read_from_txt()\n",
    "#word_list"
   ]
  },
  {
   "cell_type": "code",
   "execution_count": 4,
   "metadata": {},
   "outputs": [],
   "source": [
    "test_search = CreateWordSearch(word_list)"
   ]
  },
  {
   "cell_type": "code",
   "execution_count": 5,
   "metadata": {},
   "outputs": [
    {
     "data": {
      "text/plain": [
       "28"
      ]
     },
     "execution_count": 5,
     "metadata": {},
     "output_type": "execute_result"
    }
   ],
   "source": [
    "len(test_search.grid)"
   ]
  },
  {
   "cell_type": "code",
   "execution_count": 6,
   "metadata": {},
   "outputs": [
    {
     "name": "stdout",
     "output_type": "stream",
     "text": [
      "['N', 'T', 'B', 'G', 'L', 'H', 'A', 'Z', 'Z', 'X', 'V', 'S', 'U', 'R', 'T', 'N', 'B', 'U', 'Z', 'T', 'I', 'W', 'H', 'C', 'S', 'U', 'A', 'C']\n",
      "['M', 'Q', 'Z', 'Y', 'E', 'P', 'T', 'T', 'B', 'P', 'X', 'Q', 'E', 'Z', 'U', 'P', 'E', 'P', 'P', 'L', 'Q', 'F', 'Z', 'R', 'O', 'U', 'L', 'B']\n",
      "['Q', 'K', 'S', 'E', 'H', 'R', 'O', 'I', 'M', 'G', 'N', 'S', 'X', 'O', 'A', 'S', 'E', 'L', 'Y', 'Z', 'K', 'F', 'X', 'P', 'F', 'F', 'R', 'B']\n",
      "['C', 'J', 'M', 'L', 'W', 'B', 'M', 'H', 'N', 'S', 'S', 'E', 'C', 'P', 'L', 'X', 'S', 'I', 'T', 'A', 'L', 'Y', 'P', 'D', 'U', 'S', 'G', 'C']\n",
      "['Z', 'D', 'G', 'T', 'N', 'Y', 'I', 'A', 'N', 'A', 'T', 'Q', 'P', 'H', 'L', 'O', 'I', 'I', 'K', 'L', 'J', 'R', 'K', 'E', 'C', 'Y', 'H', 'T']\n",
      "['E', 'T', 'S', 'A', 'S', 'F', 'C', 'O', 'N', 'A', 'R', 'A', 'L', 'P', 'U', 'B', 'E', 'S', 'A', 'F', 'A', 'S', 'C', 'I', 'S', 'M', 'P', 'A']\n",
      "['R', 'F', 'W', 'E', 'X', 'A', 'B', 'L', 'D', 'Y', 'Z', 'T', 'L', 'W', 'U', 'T', 'R', 'G', 'P', 'G', 'Z', 'U', 'P', 'T', 'H', 'T', 'T', 'Z']\n",
      "['O', 'T', 'F', 'F', 'L', 'F', 'O', 'H', 'Y', 'H', 'R', 'I', 'Z', 'I', 'C', 'R', 'Z', 'S', 'X', 'O', 'J', 'J', 'M', 'Z', 'A', 'C', 'D', 'L']\n",
      "['B', 'X', 'S', 'A', 'D', 'U', 'M', 'A', 'J', 'M', 'E', 'B', 'S', 'J', 'N', 'H', 'G', 'S', 'Z', 'C', 'W', 'V', 'H', 'J', 'W', 'J', 'G', 'K']\n",
      "['E', 'I', 'I', 'E', 'W', 'K', 'B', 'I', 'W', 'D', 'G', 'J', 'L', 'E', 'O', 'G', 'U', 'Z', 'T', 'K', 'V', 'E', 'A', 'N', 'K', 'R', 'O', 'M']\n",
      "['R', 'W', 'S', 'U', 'R', 'T', 'X', 'S', 'A', 'U', 'A', 'U', 'T', 'M', 'U', 'I', 'R', 'R', 'T', 'A', 'P', 'M', 'R', 'C', 'E', 'K', 'U', 'R']\n",
      "['T', 'O', 'P', 'B', 'T', 'O', 'F', 'H', 'D', 'L', 'C', 'H', 'R', 'Q', 'R', 'B', 'J', 'A', 'C', 'A', 'F', 'T', 'S', 'S', 'R', 'R', 'Y', 'S']\n",
      "['O', 'J', 'I', 'Z', 'A', 'S', 'F', 'U', 'M', 'J', 'H', 'Z', 'U', 'F', 'R', 'K', 'O', 'F', 'D', 'H', 'S', 'F', 'J', 'J', 'H', 'A', 'D', 'B']\n",
      "['P', 'I', 'T', 'I', 'W', 'M', 'U', 'S', 'L', 'S', 'Z', 'T', 'M', 'D', 'K', 'O', 'L', 'A', 'R', 'Y', 'H', 'N', 'E', 'L', 'U', 'M', 'M', 'O']\n",
      "['P', 'M', 'F', 'D', 'A', 'J', 'H', 'A', 'E', 'Z', 'H', 'N', 'A', 'B', 'T', 'L', 'G', 'O', 'T', 'E', 'F', 'I', 'I', 'L', 'R', 'S', 'U', 'Q']\n",
      "['E', 'A', 'I', 'I', 'N', 'E', 'X', 'U', 'C', 'N', 'Q', 'O', 'N', 'O', 'O', 'Y', 'A', 'E', 'Q', 'K', 'S', 'K', 'L', 'E', 'R', 'I', 'S', 'J']\n",
      "['N', 'J', 'R', 'Q', 'I', 'W', 'D', 'C', 'Q', 'O', 'N', 'E', 'O', 'V', 'L', 'Z', 'D', 'P', 'I', 'E', 'A', 'T', 'I', 'L', 'I', 'B', 'S', 'A']\n",
      "['H', 'Y', 'E', 'A', 'K', 'I', 'U', 'P', 'C', 'Y', 'L', 'E', 'P', 'D', 'O', 'A', 'X', 'K', 'E', 'R', 'X', 'G', 'R', 'T', 'C', 'B', 'O', 'P']\n",
      "['E', 'N', 'Q', 'X', 'O', 'S', 'O', 'I', 'T', 'K', 'L', 'O', 'D', 'N', 'K', 'B', 'S', 'L', 'M', 'A', 'K', 'I', 'Q', 'C', 'A', 'T', 'L', 'A']\n",
      "['I', 'X', 'T', 'D', 'H', 'H', 'M', 'B', 'Q', 'U', 'J', 'W', 'H', 'R', 'A', 'L', 'L', 'I', 'E', 'S', 'R', 'Z', 'J', 'V', 'N', 'P', 'I', 'N']\n",
      "['M', 'E', 'Z', 'F', 'X', 'J', 'F', 'S', 'O', 'P', 'S', 'L', 'N', 'P', 'A', 'F', 'P', 'A', 'Y', 'B', 'D', 'L', 'T', 'Q', 'E', 'M', 'N', 'N']\n",
      "['E', 'U', 'A', 'H', 'C', 'A', 'D', 'W', 'F', 'C', 'A', 'A', 'Y', 'P', 'G', 'E', 'L', 'B', 'R', 'I', 'M', 'K', 'H', 'I', 'H', 'E', 'I', 'I']\n",
      "['R', 'F', 'M', 'U', 'A', 'N', 'E', 'K', 'R', 'I', 'B', 'S', 'N', 'H', 'P', 'F', 'T', 'K', 'D', 'D', 'A', 'Y', 'R', 'A', 'L', 'F', 'C', 'L']\n",
      "['U', 'A', 'E', 'O', 'U', 'B', 'T', 'L', 'E', 'V', 'E', 'S', 'O', 'O', 'R', 'J', 'X', 'Y', 'X', 'F', 'Z', 'X', 'Y', 'E', 'R', 'B', 'Y', 'R']\n",
      "['D', 'U', 'U', 'X', 'W', 'K', 'U', 'R', 'S', 'K', 'O', 'V', 'N', 'M', 'R', 'W', 'C', 'Y', 'Q', 'S', 'X', 'D', 'X', 'Q', 'V', 'B', 'T', 'E']\n",
      "['N', 'M', 'W', 'A', 'W', 'E', 'J', 'G', 'L', 'M', 'B', 'F', 'T', 'P', 'E', 'V', 'H', 'R', 'F', 'R', 'A', 'N', 'C', 'E', 'Q', 'W', 'O', 'B']\n",
      "['L', 'G', 'F', 'G', 'I', 'Y', 'V', 'Z', 'N', 'S', 'F', 'G', 'V', 'T', 'T', 'E', 'I', 'S', 'E', 'N', 'H', 'O', 'W', 'E', 'R', 'M', 'Z', 'R']\n",
      "['C', 'H', 'S', 'H', 'U', 'S', 'D', 'V', 'R', 'H', 'I', 'T', 'L', 'E', 'R', 'P', 'N', 'I', 'L', 'A', 'T', 'S', 'H', 'P', 'E', 'S', 'O', 'J']\n"
     ]
    }
   ],
   "source": [
    "for row in test_search.grid:\n",
    "    print(row)"
   ]
  },
  {
   "cell_type": "code",
   "execution_count": 7,
   "metadata": {},
   "outputs": [],
   "source": [
    "test_search.write_grid()"
   ]
  },
  {
   "cell_type": "code",
   "execution_count": 8,
   "metadata": {},
   "outputs": [],
   "source": [
    "test_search.write_words()"
   ]
  }
 ],
 "metadata": {
  "kernelspec": {
   "display_name": "iPython",
   "language": "python",
   "name": "python3"
  },
  "language_info": {
   "codemirror_mode": {
    "name": "ipython",
    "version": 3
   },
   "file_extension": ".py",
   "mimetype": "text/x-python",
   "name": "python",
   "nbconvert_exporter": "python",
   "pygments_lexer": "ipython3",
   "version": "3.8.5"
  }
 },
 "nbformat": 4,
 "nbformat_minor": 4
}
